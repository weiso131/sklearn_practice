{
 "cells": [
  {
   "cell_type": "code",
   "execution_count": 1,
   "metadata": {},
   "outputs": [],
   "source": [
    "import pandas as pd\n",
    "import numpy as np\n",
    "\n",
    "from sklearn.ensemble import RandomForestClassifier\n",
    "from sklearn.model_selection import train_test_split\n",
    "from sklearn.metrics import accuracy_score\n",
    "\n",
    "titanic_path = \"C:/Users/weiso131/Desktop/sklearn/titanic_disaster/titanic/train.csv\"\n",
    "\n",
    "titanic_df = pd.read_csv(titanic_path)\n",
    "\n",
    "titanic_df = titanic_df.sample(n=len(titanic_df))"
   ]
  },
  {
   "cell_type": "code",
   "execution_count": 2,
   "metadata": {},
   "outputs": [],
   "source": [
    "from sklearn.impute import SimpleImputer\n",
    "from sklearn.preprocessing import StandardScaler\n",
    "\n",
    "scaler = StandardScaler()\n",
    "imputer = SimpleImputer(strategy='median')\n",
    "def data_pre_process(keep : list, df : pd.DataFrame):\n",
    "    new_df = df[keep]\n",
    "    \n",
    "    for i in new_df.index:\n",
    "        if (new_df[\"Sex\"].get(i) == \"female\"): \n",
    "            new_df.at[i ,\"Sex\"] = 0\n",
    "        else: \n",
    "            new_df.at[i ,\"Sex\"] = 1\n",
    "\n",
    "    \n",
    "    if (\"Age\" in keep):  \n",
    "        new_df['Age'] = imputer.fit_transform(new_df[[\"Age\"]])\n",
    "        new_df['Age'] = scaler.fit_transform(new_df[['Age']])\n",
    "    if (\"Fare\" in keep): \n",
    "        new_df['Fare'] = imputer.fit_transform(new_df[[\"Fare\"]])\n",
    "        new_df['Fare'] = scaler.fit_transform(new_df[['Fare']])\n",
    "    \n",
    "    return new_df"
   ]
  },
  {
   "cell_type": "code",
   "execution_count": 3,
   "metadata": {},
   "outputs": [
    {
     "name": "stderr",
     "output_type": "stream",
     "text": [
      "C:\\Users\\weiso131\\AppData\\Local\\Temp\\ipykernel_33104\\2811277213.py:17: SettingWithCopyWarning: \n",
      "A value is trying to be set on a copy of a slice from a DataFrame.\n",
      "Try using .loc[row_indexer,col_indexer] = value instead\n",
      "\n",
      "See the caveats in the documentation: https://pandas.pydata.org/pandas-docs/stable/user_guide/indexing.html#returning-a-view-versus-a-copy\n",
      "  new_df['Age'] = imputer.fit_transform(new_df[[\"Age\"]])\n",
      "C:\\Users\\weiso131\\AppData\\Local\\Temp\\ipykernel_33104\\2811277213.py:18: SettingWithCopyWarning: \n",
      "A value is trying to be set on a copy of a slice from a DataFrame.\n",
      "Try using .loc[row_indexer,col_indexer] = value instead\n",
      "\n",
      "See the caveats in the documentation: https://pandas.pydata.org/pandas-docs/stable/user_guide/indexing.html#returning-a-view-versus-a-copy\n",
      "  new_df['Age'] = scaler.fit_transform(new_df[['Age']])\n",
      "C:\\Users\\weiso131\\AppData\\Local\\Temp\\ipykernel_33104\\2811277213.py:20: SettingWithCopyWarning: \n",
      "A value is trying to be set on a copy of a slice from a DataFrame.\n",
      "Try using .loc[row_indexer,col_indexer] = value instead\n",
      "\n",
      "See the caveats in the documentation: https://pandas.pydata.org/pandas-docs/stable/user_guide/indexing.html#returning-a-view-versus-a-copy\n",
      "  new_df['Fare'] = imputer.fit_transform(new_df[[\"Fare\"]])\n",
      "C:\\Users\\weiso131\\AppData\\Local\\Temp\\ipykernel_33104\\2811277213.py:21: SettingWithCopyWarning: \n",
      "A value is trying to be set on a copy of a slice from a DataFrame.\n",
      "Try using .loc[row_indexer,col_indexer] = value instead\n",
      "\n",
      "See the caveats in the documentation: https://pandas.pydata.org/pandas-docs/stable/user_guide/indexing.html#returning-a-view-versus-a-copy\n",
      "  new_df['Fare'] = scaler.fit_transform(new_df[['Fare']])\n"
     ]
    }
   ],
   "source": [
    "keep = [\"Survived\", \"Pclass\", \"Sex\", \"SibSp\", \"Parch\", \"Fare\", \"Age\"]\n",
    "keep_Experimental = [\"Survived\", \"Pclass\", \"Sex\", \"SibSp\", \"Parch\"]\n",
    "titanic_steady_df = data_pre_process(keep, titanic_df)\n",
    "titanic_Experimental_df = data_pre_process(keep_Experimental, titanic_df)\n"
   ]
  },
  {
   "cell_type": "code",
   "execution_count": 4,
   "metadata": {},
   "outputs": [],
   "source": [
    "X_steady = titanic_steady_df.drop(\"Survived\", axis=1).values\n",
    "y_steady = titanic_steady_df[\"Survived\"].values\n",
    "\n",
    "\n",
    "\n",
    "X_Experimental = titanic_Experimental_df.drop(\"Survived\", axis=1).values\n",
    "y_Experimental = titanic_Experimental_df[\"Survived\"].values"
   ]
  },
  {
   "cell_type": "code",
   "execution_count": 5,
   "metadata": {},
   "outputs": [],
   "source": [
    "def cut_block(X : list, y : list, cut=5):\n",
    "    \"\"\"\n",
    "    return X_block, y_block\n",
    "    \"\"\"\n",
    "    n_20 = int(len(X) / cut)\n",
    "    X_block = []\n",
    "    y_block = []\n",
    "    for i in range(cut):\n",
    "        X_block.append(X[i*n_20:(i+1)*n_20])\n",
    "        y_block.append(y[i*n_20:(i+1)*n_20])\n",
    "    return X_block, y_block\n",
    "\n",
    "def assemble_block(X_block : list, y_block : list, test_i : int, cut=5):\n",
    "    \"\"\"\n",
    "    return:\n",
    "    x_train, y_train, x_test, y_test\n",
    "    \"\"\"\n",
    "    x_test, y_test = X_block[test_i], y_block[test_i]\n",
    "    x_train = []\n",
    "    y_train = []\n",
    "    for i in range(cut):\n",
    "        if (i == test_i): continue\n",
    "        x_train.extend(X_block[i])\n",
    "        y_train.extend(y_block[i])\n",
    "\n",
    "    return x_train, y_train, x_test, y_test\n"
   ]
  },
  {
   "cell_type": "code",
   "execution_count": 15,
   "metadata": {},
   "outputs": [],
   "source": [
    "def train(x_train : list, y_train : list, max_depth = 5):\n",
    "    \"\"\"\n",
    "    return rf_clf\n",
    "    \"\"\"\n",
    "    # 創建隨機森林分類器實例\n",
    "    rf_clf = RandomForestClassifier(n_estimators=500, random_state=31, max_depth=max_depth)\n",
    "\n",
    "    # 訓練分類器\n",
    "    rf_clf.fit(x_train, y_train)\n",
    "\n",
    "    \n",
    "\n",
    "    return rf_clf\n",
    "def test(x_train : list, y_train : list, x_test : list, y_test : list, rf_clf):\n",
    "    prediction_train = rf_clf.predict(x_train)\n",
    "    prediction_test = rf_clf.predict(x_test)\n",
    "    \n",
    "    return accuracy_score(prediction_train, y_train), accuracy_score(prediction_test, y_test)\n"
   ]
  },
  {
   "cell_type": "code",
   "execution_count": 16,
   "metadata": {},
   "outputs": [
    {
     "name": "stdout",
     "output_type": "stream",
     "text": [
      "max_depth =  4\n",
      "avg train:0.8488764044943821, avg test:0.8224719101123595\n",
      "std train:0.00859385311279683, std test:0.020595845820026243\n",
      "max train:0.8651685393258427, max test:0.8426966292134831\n",
      "min train:0.8412921348314607, min test:0.7921348314606742\n",
      "\n",
      "max_depth =  5\n",
      "avg train:0.8575842696629212, avg test:0.8280898876404494\n",
      "std train:0.008730488914561843, std test:0.0176229069004024\n",
      "max train:0.875, max test:0.848314606741573\n",
      "min train:0.8525280898876404, min test:0.797752808988764\n",
      "\n",
      "max_depth =  6\n",
      "avg train:0.875, avg test:0.8247191011235955\n",
      "std train:0.0029460922701408454, std test:0.013943453534821222\n",
      "max train:0.8792134831460674, max test:0.8370786516853933\n",
      "min train:0.8721910112359551, min test:0.797752808988764\n",
      "\n",
      "max_depth =  7\n",
      "avg train:0.9016853932584269, avg test:0.8292134831460676\n",
      "std train:0.0028089887640449286, std test:0.018325288123932693\n",
      "max train:0.9058988764044944, max test:0.8595505617977528\n",
      "min train:0.8974719101123596, min test:0.8033707865168539\n",
      "\n",
      "max_depth =  8\n",
      "avg train:0.9174157303370787, avg test:0.8258426966292134\n",
      "std train:0.004204109423341515, std test:0.02435897009963912\n",
      "max train:0.925561797752809, max test:0.8707865168539326\n",
      "min train:0.9143258426966292, min test:0.797752808988764\n",
      "\n",
      "max_depth =  9\n",
      "avg train:0.9325842696629213, avg test:0.8292134831460674\n",
      "std train:0.0025124359297750507, std test:0.024770120994436647\n",
      "max train:0.9353932584269663, max test:0.8764044943820225\n",
      "min train:0.9297752808988764, min test:0.8089887640449438\n",
      "\n",
      "max_depth =  10\n",
      "avg train:0.9432584269662921, avg test:0.8269662921348315\n",
      "std train:0.002752235666048494, std test:0.019910163086145346\n",
      "max train:0.9480337078651685, max test:0.8651685393258427\n",
      "min train:0.9396067415730337, min test:0.8089887640449438\n",
      "\n",
      "max_depth =  11\n",
      "avg train:0.952247191011236, avg test:0.8179775280898877\n",
      "std train:0.002664840724861006, std test:0.024513959808170126\n",
      "max train:0.9550561797752809, max test:0.8539325842696629\n",
      "min train:0.9480337078651685, min test:0.7921348314606742\n",
      "\n"
     ]
    }
   ],
   "source": [
    "cut = 5\n",
    "\n",
    "X_steady_block, y_steady_block = cut_block(X_steady, y_steady, cut=cut)\n",
    "X_Experimental_block, y_Experimental_block = cut_block(X_Experimental, y_Experimental, cut=cut)  \n",
    "\n",
    "\n",
    "\n",
    "\n",
    "\n",
    "\n",
    "\n",
    "\n",
    "for depth in range(4, 12):\n",
    "    avg_steady_train = []\n",
    "    avg_steady_test = []\n",
    "    avg_Experimental_train = []\n",
    "    avg_Experimental_test = []\n",
    "    for i in range(cut):\n",
    "        x_steady_train, y_steady_train, x_steady_test, y_steady_test = \\\n",
    "            assemble_block(X_steady_block, y_steady_block, i, cut=cut)\n",
    "        \n",
    "        x_Experimental_train, y_Experimental_train, x_Experimental_test, y_Experimental_test = \\\n",
    "            assemble_block(X_Experimental_block, y_Experimental_block, i, cut=cut)\n",
    "\n",
    "        \n",
    "        rf_clf_steady = train(x_steady_train, y_steady_train, max_depth=depth)\n",
    "        result = test(x_steady_train, y_steady_train, x_steady_test, y_steady_test, rf_clf_steady)\n",
    "\n",
    "        avg_steady_train.append(result[0])\n",
    "        avg_steady_test.append(result[1])\n",
    "\n",
    "    print(\"max_depth = \", depth)\n",
    "\n",
    "    print(f\"avg train:{np.mean(avg_steady_train)}, avg test:{np.mean(avg_steady_test)}\")\n",
    "    print(f\"std train:{np.std(avg_steady_train)}, std test:{np.std(avg_steady_test)}\")\n",
    "    print(f\"max train:{np.max(avg_steady_train)}, max test:{np.max(avg_steady_test)}\")\n",
    "    print(f\"min train:{np.min(avg_steady_train)}, min test:{np.min(avg_steady_test)}\")\n",
    "\n",
    "    print()"
   ]
  },
  {
   "cell_type": "code",
   "execution_count": 18,
   "metadata": {},
   "outputs": [
    {
     "name": "stderr",
     "output_type": "stream",
     "text": [
      "C:\\Users\\weiso131\\AppData\\Local\\Temp\\ipykernel_33104\\2811277213.py:17: SettingWithCopyWarning: \n",
      "A value is trying to be set on a copy of a slice from a DataFrame.\n",
      "Try using .loc[row_indexer,col_indexer] = value instead\n",
      "\n",
      "See the caveats in the documentation: https://pandas.pydata.org/pandas-docs/stable/user_guide/indexing.html#returning-a-view-versus-a-copy\n",
      "  new_df['Age'] = imputer.fit_transform(new_df[[\"Age\"]])\n",
      "C:\\Users\\weiso131\\AppData\\Local\\Temp\\ipykernel_33104\\2811277213.py:18: SettingWithCopyWarning: \n",
      "A value is trying to be set on a copy of a slice from a DataFrame.\n",
      "Try using .loc[row_indexer,col_indexer] = value instead\n",
      "\n",
      "See the caveats in the documentation: https://pandas.pydata.org/pandas-docs/stable/user_guide/indexing.html#returning-a-view-versus-a-copy\n",
      "  new_df['Age'] = scaler.fit_transform(new_df[['Age']])\n",
      "C:\\Users\\weiso131\\AppData\\Local\\Temp\\ipykernel_33104\\2811277213.py:20: SettingWithCopyWarning: \n",
      "A value is trying to be set on a copy of a slice from a DataFrame.\n",
      "Try using .loc[row_indexer,col_indexer] = value instead\n",
      "\n",
      "See the caveats in the documentation: https://pandas.pydata.org/pandas-docs/stable/user_guide/indexing.html#returning-a-view-versus-a-copy\n",
      "  new_df['Fare'] = imputer.fit_transform(new_df[[\"Fare\"]])\n",
      "C:\\Users\\weiso131\\AppData\\Local\\Temp\\ipykernel_33104\\2811277213.py:21: SettingWithCopyWarning: \n",
      "A value is trying to be set on a copy of a slice from a DataFrame.\n",
      "Try using .loc[row_indexer,col_indexer] = value instead\n",
      "\n",
      "See the caveats in the documentation: https://pandas.pydata.org/pandas-docs/stable/user_guide/indexing.html#returning-a-view-versus-a-copy\n",
      "  new_df['Fare'] = scaler.fit_transform(new_df[['Fare']])\n"
     ]
    }
   ],
   "source": [
    "keep_normal = [\"Survived\", \"Pclass\", \"Sex\", \"SibSp\", \"Parch\", \"Fare\", \"Age\"]\n",
    "\n",
    "\n",
    "titanic_normal_df = data_pre_process(keep_normal, titanic_df)\n",
    "\n",
    "\n",
    "X_normal = titanic_normal_df.drop(\"Survived\", axis=1).values\n",
    "y_normal = titanic_normal_df[\"Survived\"].values\n",
    "\n",
    "\n",
    "\n"
   ]
  },
  {
   "cell_type": "code",
   "execution_count": 19,
   "metadata": {},
   "outputs": [
    {
     "data": {
      "text/plain": [
       "(0.8496071829405163, 0.8496071829405163)"
      ]
     },
     "execution_count": 19,
     "metadata": {},
     "output_type": "execute_result"
    }
   ],
   "source": [
    "final_normal_model = train(X_normal, y_normal, max_depth=5)\n",
    "test(X_normal, y_normal, X_normal, y_normal, final_normal_model)"
   ]
  },
  {
   "cell_type": "code",
   "execution_count": 20,
   "metadata": {},
   "outputs": [
    {
     "name": "stderr",
     "output_type": "stream",
     "text": [
      "C:\\Users\\weiso131\\AppData\\Local\\Temp\\ipykernel_33104\\2811277213.py:17: SettingWithCopyWarning: \n",
      "A value is trying to be set on a copy of a slice from a DataFrame.\n",
      "Try using .loc[row_indexer,col_indexer] = value instead\n",
      "\n",
      "See the caveats in the documentation: https://pandas.pydata.org/pandas-docs/stable/user_guide/indexing.html#returning-a-view-versus-a-copy\n",
      "  new_df['Age'] = imputer.fit_transform(new_df[[\"Age\"]])\n",
      "C:\\Users\\weiso131\\AppData\\Local\\Temp\\ipykernel_33104\\2811277213.py:18: SettingWithCopyWarning: \n",
      "A value is trying to be set on a copy of a slice from a DataFrame.\n",
      "Try using .loc[row_indexer,col_indexer] = value instead\n",
      "\n",
      "See the caveats in the documentation: https://pandas.pydata.org/pandas-docs/stable/user_guide/indexing.html#returning-a-view-versus-a-copy\n",
      "  new_df['Age'] = scaler.fit_transform(new_df[['Age']])\n",
      "C:\\Users\\weiso131\\AppData\\Local\\Temp\\ipykernel_33104\\2811277213.py:20: SettingWithCopyWarning: \n",
      "A value is trying to be set on a copy of a slice from a DataFrame.\n",
      "Try using .loc[row_indexer,col_indexer] = value instead\n",
      "\n",
      "See the caveats in the documentation: https://pandas.pydata.org/pandas-docs/stable/user_guide/indexing.html#returning-a-view-versus-a-copy\n",
      "  new_df['Fare'] = imputer.fit_transform(new_df[[\"Fare\"]])\n",
      "C:\\Users\\weiso131\\AppData\\Local\\Temp\\ipykernel_33104\\2811277213.py:21: SettingWithCopyWarning: \n",
      "A value is trying to be set on a copy of a slice from a DataFrame.\n",
      "Try using .loc[row_indexer,col_indexer] = value instead\n",
      "\n",
      "See the caveats in the documentation: https://pandas.pydata.org/pandas-docs/stable/user_guide/indexing.html#returning-a-view-versus-a-copy\n",
      "  new_df['Fare'] = scaler.fit_transform(new_df[['Fare']])\n"
     ]
    }
   ],
   "source": [
    "test_path = \"C:/Users/weiso131/Desktop/sklearn/titanic_disaster/titanic/test.csv\"\n",
    "\n",
    "\n",
    "keep_test_normal = [\"Pclass\", \"Sex\", \"SibSp\", \"Parch\", \"Fare\", \"Age\"]\n",
    "\n",
    "\n",
    "\n",
    "titanic_test_df = pd.read_csv(test_path)\n",
    "\n",
    "titanic_test_normal = data_pre_process(keep_test_normal, titanic_test_df)\n",
    "\n",
    "\n",
    "\n",
    "\n"
   ]
  },
  {
   "cell_type": "code",
   "execution_count": 21,
   "metadata": {},
   "outputs": [],
   "source": [
    "all_prediction = final_normal_model.predict(titanic_test_normal.values)\n"
   ]
  },
  {
   "cell_type": "code",
   "execution_count": 22,
   "metadata": {},
   "outputs": [],
   "source": [
    "submission_path = \"C:/Users/weiso131/Desktop/sklearn/titanic_disaster/titanic/submission.csv\"\n",
    "\n",
    "submission_df = pd.read_csv(submission_path)\n",
    "\n",
    "for i in range(len(submission_df)):\n",
    "    index = submission_df.index[i]\n",
    "    \n",
    "\n",
    "    submission_df.at[index, \"Survived\"] = int(all_prediction[i])\n",
    "\n"
   ]
  },
  {
   "cell_type": "code",
   "execution_count": 23,
   "metadata": {},
   "outputs": [
    {
     "name": "stdout",
     "output_type": "stream",
     "text": [
      "     PassengerId  Survived\n",
      "0            892         0\n",
      "1            893         0\n",
      "2            894         0\n",
      "3            895         0\n",
      "4            896         1\n",
      "..           ...       ...\n",
      "413         1305         0\n",
      "414         1306         1\n",
      "415         1307         0\n",
      "416         1308         0\n",
      "417         1309         0\n",
      "\n",
      "[418 rows x 2 columns]\n"
     ]
    }
   ],
   "source": [
    "print(submission_df)\n",
    "submission_df.to_csv(\"submission_weiso.csv\", index = False)"
   ]
  },
  {
   "cell_type": "code",
   "execution_count": null,
   "metadata": {},
   "outputs": [],
   "source": []
  }
 ],
 "metadata": {
  "kernelspec": {
   "display_name": "AI",
   "language": "python",
   "name": "python3"
  },
  "language_info": {
   "codemirror_mode": {
    "name": "ipython",
    "version": 3
   },
   "file_extension": ".py",
   "mimetype": "text/x-python",
   "name": "python",
   "nbconvert_exporter": "python",
   "pygments_lexer": "ipython3",
   "version": "3.9.16"
  }
 },
 "nbformat": 4,
 "nbformat_minor": 2
}
