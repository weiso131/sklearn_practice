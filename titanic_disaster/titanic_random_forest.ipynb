{
 "cells": [
  {
   "cell_type": "code",
   "execution_count": 1,
   "metadata": {},
   "outputs": [],
   "source": [
    "import pandas as pd\n",
    "import numpy as np\n",
    "\n",
    "from sklearn.ensemble import RandomForestClassifier\n",
    "from sklearn.model_selection import train_test_split\n",
    "from sklearn.metrics import accuracy_score\n",
    "\n",
    "titanic_path = \"C:/Users/weiso131/Desktop/sklearn/titanic_disaster/titanic/train.csv\"\n",
    "\n",
    "titanic_df = pd.read_csv(titanic_path)\n",
    "\n",
    "titanic_df = titanic_df.sample(n=len(titanic_df))"
   ]
  },
  {
   "cell_type": "code",
   "execution_count": 2,
   "metadata": {},
   "outputs": [],
   "source": [
    "from sklearn.impute import SimpleImputer\n",
    "\n",
    "def data_pre_process(keep : list, df : pd.DataFrame):\n",
    "    new_df = df[keep]\n",
    "    \n",
    "    for i in new_df.index:\n",
    "        if (new_df[\"Sex\"].get(i) == \"female\"): \n",
    "            new_df.at[i ,\"Sex\"] = 0\n",
    "        else: \n",
    "            new_df.at[i ,\"Sex\"] = 1\n",
    "\n",
    "    imputer = SimpleImputer(strategy='median')\n",
    "    if (\"Age\" in keep):  new_df['Age'] = imputer.fit_transform(new_df[[\"Age\"]])\n",
    "    if (\"Fare\" in keep): new_df['Fare'] = imputer.fit_transform(new_df[[\"Fare\"]])\n",
    "\n",
    "    \n",
    "    return new_df"
   ]
  },
  {
   "cell_type": "code",
   "execution_count": 3,
   "metadata": {},
   "outputs": [
    {
     "name": "stderr",
     "output_type": "stream",
     "text": [
      "C:\\Users\\weiso131\\AppData\\Local\\Temp\\ipykernel_10052\\1911100202.py:13: SettingWithCopyWarning: \n",
      "A value is trying to be set on a copy of a slice from a DataFrame.\n",
      "Try using .loc[row_indexer,col_indexer] = value instead\n",
      "\n",
      "See the caveats in the documentation: https://pandas.pydata.org/pandas-docs/stable/user_guide/indexing.html#returning-a-view-versus-a-copy\n",
      "  if (\"Age\" in keep):  new_df['Age'] = imputer.fit_transform(new_df[[\"Age\"]])\n",
      "C:\\Users\\weiso131\\AppData\\Local\\Temp\\ipykernel_10052\\1911100202.py:14: SettingWithCopyWarning: \n",
      "A value is trying to be set on a copy of a slice from a DataFrame.\n",
      "Try using .loc[row_indexer,col_indexer] = value instead\n",
      "\n",
      "See the caveats in the documentation: https://pandas.pydata.org/pandas-docs/stable/user_guide/indexing.html#returning-a-view-versus-a-copy\n",
      "  if (\"Fare\" in keep): new_df['Fare'] = imputer.fit_transform(new_df[[\"Fare\"]])\n"
     ]
    }
   ],
   "source": [
    "keep = [\"Survived\", \"Pclass\", \"Sex\", \"SibSp\", \"Parch\", \"Fare\", \"Age\"]\n",
    "keep_Experimental = [\"Survived\", \"Pclass\", \"Sex\", \"SibSp\", \"Parch\"]\n",
    "titanic_steady_df = data_pre_process(keep, titanic_df)\n",
    "titanic_Experimental_df = data_pre_process(keep_Experimental, titanic_df)\n"
   ]
  },
  {
   "cell_type": "code",
   "execution_count": 4,
   "metadata": {},
   "outputs": [],
   "source": [
    "X_steady = titanic_steady_df.drop(\"Survived\", axis=1).values\n",
    "y_steady = titanic_steady_df[\"Survived\"].values\n",
    "\n",
    "\n",
    "\n",
    "X_Experimental = titanic_Experimental_df.drop(\"Survived\", axis=1).values\n",
    "y_Experimental = titanic_Experimental_df[\"Survived\"].values"
   ]
  },
  {
   "cell_type": "code",
   "execution_count": 5,
   "metadata": {},
   "outputs": [],
   "source": [
    "def cut_block(X : list, y : list, cut=5):\n",
    "    \"\"\"\n",
    "    return X_block, y_block\n",
    "    \"\"\"\n",
    "    n_20 = int(len(X) / cut)\n",
    "    X_block = []\n",
    "    y_block = []\n",
    "    for i in range(cut):\n",
    "        X_block.append(X[i*n_20:(i+1)*n_20])\n",
    "        y_block.append(y[i*n_20:(i+1)*n_20])\n",
    "    return X_block, y_block\n",
    "\n",
    "def assemble_block(X_block : list, y_block : list, test_i : int, cut=5):\n",
    "    \"\"\"\n",
    "    return:\n",
    "    x_train, y_train, x_test, y_test\n",
    "    \"\"\"\n",
    "    x_test, y_test = X_block[test_i], y_block[test_i]\n",
    "    x_train = []\n",
    "    y_train = []\n",
    "    for i in range(cut):\n",
    "        if (i == test_i): continue\n",
    "        x_train.extend(X_block[i])\n",
    "        y_train.extend(y_block[i])\n",
    "\n",
    "    return x_train, y_train, x_test, y_test\n"
   ]
  },
  {
   "cell_type": "code",
   "execution_count": 6,
   "metadata": {},
   "outputs": [],
   "source": [
    "def train(x_train : list, y_train : list):\n",
    "    \"\"\"\n",
    "    return rf_clf\n",
    "    \"\"\"\n",
    "    # 創建隨機森林分類器實例\n",
    "    rf_clf = RandomForestClassifier(n_estimators=1000, random_state=42)\n",
    "\n",
    "    # 訓練分類器\n",
    "    rf_clf.fit(x_train, y_train)\n",
    "\n",
    "    \n",
    "\n",
    "    return rf_clf\n",
    "def test(x_train : list, y_train : list, x_test : list, y_test : list, rf_clf):\n",
    "    prediction_train = rf_clf.predict(x_train)\n",
    "    print(f\"train_acc: {accuracy_score(prediction_train, y_train)}\")\n",
    "    prediction_test = rf_clf.predict(x_test)\n",
    "    print(f\"test_acc: {accuracy_score(prediction_test, y_test)}\")\n",
    "\n",
    "    return accuracy_score(prediction_train, y_train), accuracy_score(prediction_test, y_test)\n"
   ]
  },
  {
   "cell_type": "code",
   "execution_count": 7,
   "metadata": {},
   "outputs": [
    {
     "name": "stdout",
     "output_type": "stream",
     "text": [
      "steady:\n",
      "train_acc: 0.9800249687890137\n",
      "test_acc: 0.7865168539325843\n",
      "Experimental:\n",
      "train_acc: 0.8202247191011236\n",
      "test_acc: 0.797752808988764\n",
      "steady:\n",
      "train_acc: 0.978776529338327\n",
      "test_acc: 0.8202247191011236\n",
      "Experimental:\n",
      "train_acc: 0.8127340823970037\n",
      "test_acc: 0.8314606741573034\n",
      "steady:\n",
      "train_acc: 0.978776529338327\n",
      "test_acc: 0.8314606741573034\n",
      "Experimental:\n",
      "train_acc: 0.8202247191011236\n",
      "test_acc: 0.7752808988764045\n",
      "steady:\n",
      "train_acc: 0.9775280898876404\n",
      "test_acc: 0.8089887640449438\n",
      "Experimental:\n",
      "train_acc: 0.8177278401997503\n",
      "test_acc: 0.7752808988764045\n",
      "steady:\n",
      "train_acc: 0.9837702871410736\n",
      "test_acc: 0.7865168539325843\n",
      "Experimental:\n",
      "train_acc: 0.8302122347066168\n",
      "test_acc: 0.7078651685393258\n",
      "steady:\n",
      "train_acc: 0.9837702871410736\n",
      "test_acc: 0.8202247191011236\n",
      "Experimental:\n",
      "train_acc: 0.8164794007490637\n",
      "test_acc: 0.8314606741573034\n",
      "steady:\n",
      "train_acc: 0.9812734082397003\n",
      "test_acc: 0.8426966292134831\n",
      "Experimental:\n",
      "train_acc: 0.815230961298377\n",
      "test_acc: 0.8426966292134831\n",
      "steady:\n",
      "train_acc: 0.982521847690387\n",
      "test_acc: 0.8314606741573034\n",
      "Experimental:\n",
      "train_acc: 0.8202247191011236\n",
      "test_acc: 0.797752808988764\n",
      "steady:\n",
      "train_acc: 0.9812734082397003\n",
      "test_acc: 0.7752808988764045\n",
      "Experimental:\n",
      "train_acc: 0.8302122347066168\n",
      "test_acc: 0.6966292134831461\n",
      "steady:\n",
      "train_acc: 0.9812734082397003\n",
      "test_acc: 0.8426966292134831\n",
      "Experimental:\n",
      "train_acc: 0.8177278401997503\n",
      "test_acc: 0.8089887640449438\n"
     ]
    }
   ],
   "source": [
    "cut = 10\n",
    "\n",
    "X_steady_block, y_steady_block = cut_block(X_steady, y_steady, cut=cut)\n",
    "X_Experimental_block, y_Experimental_block = cut_block(X_Experimental, y_Experimental, cut=cut)  \n",
    "\n",
    "\n",
    "\n",
    "avg_steady_train = 0\n",
    "avg_steady_test = 0\n",
    "avg_Experimental_train = 0\n",
    "avg_Experimental_test = 0\n",
    "\n",
    "\n",
    "\n",
    "for i in range(cut):\n",
    "    x_steady_train, y_steady_train, x_steady_test, y_steady_test = \\\n",
    "        assemble_block(X_steady_block, y_steady_block, i, cut=cut)\n",
    "    \n",
    "    x_Experimental_train, y_Experimental_train, x_Experimental_test, y_Experimental_test = \\\n",
    "        assemble_block(X_Experimental_block, y_Experimental_block, i, cut=cut)\n",
    "\n",
    "    \n",
    "    rf_clf_steady = train(x_steady_train, y_steady_train)\n",
    "    print(\"steady:\")\n",
    "    result = test(x_steady_train, y_steady_train, x_steady_test, y_steady_test, rf_clf_steady)\n",
    "\n",
    "    avg_steady_train += result[0]\n",
    "    avg_steady_test += result[1]\n",
    "\n",
    "    \n",
    "    rf_clf_Experimental = train(x_Experimental_train, y_Experimental_train)\n",
    "    print(\"Experimental:\")\n",
    "    result = test(x_Experimental_train, y_Experimental_train, x_Experimental_test, y_Experimental_test, rf_clf_Experimental)\n",
    "\n",
    "    avg_Experimental_train += result[0]\n",
    "    avg_Experimental_test += result[1]"
   ]
  },
  {
   "cell_type": "code",
   "execution_count": 8,
   "metadata": {},
   "outputs": [
    {
     "name": "stdout",
     "output_type": "stream",
     "text": [
      "avg steady train:0.9808988764044942, avg steady test:0.8146067415730336\n",
      "avg Experimental train:0.8200998751560548, avg Experimental test:0.7865168539325843\n"
     ]
    }
   ],
   "source": [
    "print(f\"avg steady train:{avg_steady_train / cut}, avg steady test:{avg_steady_test / cut}\")\n",
    "print(f\"avg Experimental train:{avg_Experimental_train / cut}, avg Experimental test:{avg_Experimental_test / cut}\")"
   ]
  },
  {
   "cell_type": "code",
   "execution_count": 9,
   "metadata": {},
   "outputs": [
    {
     "name": "stderr",
     "output_type": "stream",
     "text": [
      "C:\\Users\\weiso131\\AppData\\Local\\Temp\\ipykernel_10052\\1911100202.py:13: SettingWithCopyWarning: \n",
      "A value is trying to be set on a copy of a slice from a DataFrame.\n",
      "Try using .loc[row_indexer,col_indexer] = value instead\n",
      "\n",
      "See the caveats in the documentation: https://pandas.pydata.org/pandas-docs/stable/user_guide/indexing.html#returning-a-view-versus-a-copy\n",
      "  if (\"Age\" in keep):  new_df['Age'] = imputer.fit_transform(new_df[[\"Age\"]])\n",
      "C:\\Users\\weiso131\\AppData\\Local\\Temp\\ipykernel_10052\\1911100202.py:14: SettingWithCopyWarning: \n",
      "A value is trying to be set on a copy of a slice from a DataFrame.\n",
      "Try using .loc[row_indexer,col_indexer] = value instead\n",
      "\n",
      "See the caveats in the documentation: https://pandas.pydata.org/pandas-docs/stable/user_guide/indexing.html#returning-a-view-versus-a-copy\n",
      "  if (\"Fare\" in keep): new_df['Fare'] = imputer.fit_transform(new_df[[\"Fare\"]])\n"
     ]
    }
   ],
   "source": [
    "keep_normal = [\"Survived\", \"Pclass\", \"Sex\", \"SibSp\", \"Parch\", \"Fare\", \"Age\"]\n",
    "\n",
    "\n",
    "titanic_normal_df = data_pre_process(keep_normal, titanic_df)\n",
    "\n",
    "\n",
    "X_normal = titanic_normal_df.drop(\"Survived\", axis=1).values\n",
    "y_normal = titanic_normal_df[\"Survived\"].values\n",
    "\n",
    "\n",
    "\n"
   ]
  },
  {
   "cell_type": "code",
   "execution_count": 15,
   "metadata": {},
   "outputs": [
    {
     "name": "stdout",
     "output_type": "stream",
     "text": [
      "train_acc: 0.9797979797979798\n",
      "test_acc: 0.9797979797979798\n"
     ]
    },
    {
     "data": {
      "text/plain": [
       "(0.9797979797979798, 0.9797979797979798)"
      ]
     },
     "execution_count": 15,
     "metadata": {},
     "output_type": "execute_result"
    }
   ],
   "source": [
    "final_normal_model = train(X_normal, y_normal)\n",
    "test(X_normal, y_normal, X_normal, y_normal, final_normal_model)"
   ]
  },
  {
   "cell_type": "code",
   "execution_count": 16,
   "metadata": {},
   "outputs": [
    {
     "name": "stderr",
     "output_type": "stream",
     "text": [
      "C:\\Users\\weiso131\\AppData\\Local\\Temp\\ipykernel_10052\\1911100202.py:13: SettingWithCopyWarning: \n",
      "A value is trying to be set on a copy of a slice from a DataFrame.\n",
      "Try using .loc[row_indexer,col_indexer] = value instead\n",
      "\n",
      "See the caveats in the documentation: https://pandas.pydata.org/pandas-docs/stable/user_guide/indexing.html#returning-a-view-versus-a-copy\n",
      "  if (\"Age\" in keep):  new_df['Age'] = imputer.fit_transform(new_df[[\"Age\"]])\n",
      "C:\\Users\\weiso131\\AppData\\Local\\Temp\\ipykernel_10052\\1911100202.py:14: SettingWithCopyWarning: \n",
      "A value is trying to be set on a copy of a slice from a DataFrame.\n",
      "Try using .loc[row_indexer,col_indexer] = value instead\n",
      "\n",
      "See the caveats in the documentation: https://pandas.pydata.org/pandas-docs/stable/user_guide/indexing.html#returning-a-view-versus-a-copy\n",
      "  if (\"Fare\" in keep): new_df['Fare'] = imputer.fit_transform(new_df[[\"Fare\"]])\n"
     ]
    }
   ],
   "source": [
    "test_path = \"C:/Users/weiso131/Desktop/sklearn/titanic_disaster/titanic/test.csv\"\n",
    "\n",
    "\n",
    "keep_test_normal = [\"Pclass\", \"Sex\", \"SibSp\", \"Parch\", \"Fare\", \"Age\"]\n",
    "\n",
    "\n",
    "\n",
    "titanic_test_df = pd.read_csv(test_path)\n",
    "\n",
    "titanic_test_normal = data_pre_process(keep_test_normal, titanic_test_df).dropna()\n",
    "\n",
    "\n",
    "\n",
    "\n"
   ]
  },
  {
   "cell_type": "code",
   "execution_count": 17,
   "metadata": {},
   "outputs": [],
   "source": [
    "all_prediction = final_normal_model.predict(titanic_test_normal.values)\n"
   ]
  },
  {
   "cell_type": "code",
   "execution_count": 18,
   "metadata": {},
   "outputs": [],
   "source": [
    "submission_path = \"C:/Users/weiso131/Desktop/sklearn/titanic_disaster/titanic/submission.csv\"\n",
    "\n",
    "submission_df = pd.read_csv(submission_path)\n",
    "\n",
    "for i in range(len(submission_df)):\n",
    "    index = submission_df.index[i]\n",
    "    \n",
    "\n",
    "    submission_df.at[index, \"Survived\"] = int(all_prediction[i])\n",
    "\n"
   ]
  },
  {
   "cell_type": "code",
   "execution_count": 19,
   "metadata": {},
   "outputs": [
    {
     "name": "stdout",
     "output_type": "stream",
     "text": [
      "     PassengerId  Survived\n",
      "0            892         0\n",
      "1            893         0\n",
      "2            894         1\n",
      "3            895         1\n",
      "4            896         0\n",
      "..           ...       ...\n",
      "413         1305         0\n",
      "414         1306         1\n",
      "415         1307         0\n",
      "416         1308         0\n",
      "417         1309         0\n",
      "\n",
      "[418 rows x 2 columns]\n"
     ]
    }
   ],
   "source": [
    "print(submission_df)\n",
    "submission_df.to_csv(\"submission_weiso.csv\", index = False)"
   ]
  },
  {
   "cell_type": "code",
   "execution_count": null,
   "metadata": {},
   "outputs": [],
   "source": []
  }
 ],
 "metadata": {
  "kernelspec": {
   "display_name": "AI",
   "language": "python",
   "name": "python3"
  },
  "language_info": {
   "codemirror_mode": {
    "name": "ipython",
    "version": 3
   },
   "file_extension": ".py",
   "mimetype": "text/x-python",
   "name": "python",
   "nbconvert_exporter": "python",
   "pygments_lexer": "ipython3",
   "version": "3.9.16"
  }
 },
 "nbformat": 4,
 "nbformat_minor": 2
}
