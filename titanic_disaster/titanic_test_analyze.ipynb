{
 "cells": [
  {
   "cell_type": "code",
   "execution_count": 11,
   "metadata": {},
   "outputs": [],
   "source": [
    "import pandas as pd\n",
    "import numpy as np"
   ]
  },
  {
   "cell_type": "code",
   "execution_count": 18,
   "metadata": {},
   "outputs": [],
   "source": [
    "test_path = \"C:/Users/weiso131/Desktop/sklearn/titanic_disaster/titanic/test.csv\"\n",
    "\n",
    "\n",
    "keep_test = [ \"Pclass\", \"Sex\", \"SibSp\", \"Parch\",  \"Fare\"]\n",
    "\n",
    "titanic_test_df = pd.read_csv(test_path)\n",
    "\n",
    "titanic_test_df = titanic_test_df[keep_test]\n",
    "titanic_dropna = titanic_test_df.dropna()\n",
    "\n",
    "\n"
   ]
  },
  {
   "cell_type": "code",
   "execution_count": 19,
   "metadata": {},
   "outputs": [],
   "source": [
    "titanic_nan_index = []\n",
    "\n",
    "for i in range(len(titanic_test_df)):\n",
    "    if (i in titanic_dropna.index): continue\n",
    "    titanic_nan_index.append(i)\n",
    "\n"
   ]
  },
  {
   "cell_type": "code",
   "execution_count": 20,
   "metadata": {},
   "outputs": [
    {
     "name": "stdout",
     "output_type": "stream",
     "text": [
      "     Pclass   Sex  SibSp  Parch  Fare\n",
      "152       3  male      0      0   NaN\n"
     ]
    }
   ],
   "source": [
    "titanic_nan = titanic_test_df.loc[titanic_nan_index, keep_test]\n",
    "pd.set_option(\"display.max_rows\", None)\n",
    "print(titanic_nan)"
   ]
  },
  {
   "cell_type": "code",
   "execution_count": null,
   "metadata": {},
   "outputs": [],
   "source": [
    "#發現Fare和Age有NaN"
   ]
  }
 ],
 "metadata": {
  "kernelspec": {
   "display_name": "AI",
   "language": "python",
   "name": "python3"
  },
  "language_info": {
   "codemirror_mode": {
    "name": "ipython",
    "version": 3
   },
   "file_extension": ".py",
   "mimetype": "text/x-python",
   "name": "python",
   "nbconvert_exporter": "python",
   "pygments_lexer": "ipython3",
   "version": "3.9.16"
  }
 },
 "nbformat": 4,
 "nbformat_minor": 2
}
